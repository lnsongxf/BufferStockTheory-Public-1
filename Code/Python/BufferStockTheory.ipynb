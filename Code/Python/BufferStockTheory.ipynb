{
 "cells": [
  {
   "cell_type": "markdown",
   "metadata": {},
   "source": [
    "# Theoretical Foundations of Buffer Stock Saving\n",
    "\n",
    "This notebook uses the [Econ-ARK/HARK](https://github.com/econ-ark/hark) toolkit to reproduce all of the figures in the paper [Theoretical Foundations of Buffer Stock Saving](http://econ.jhu.edu/people/ccarroll/papers/BufferStockTheory). "
   ]
  },
  {
   "cell_type": "markdown",
   "metadata": {},
   "source": [
    "For instructions on how to install the [Econ-ARK/HARK](https://github.com/econ-ark/hark) toolkit, please refer to II. QUICK START GUIDE in [Heterogeneous Agents Resources and toolKit (HARK)](https://github.com/econ-ark/HARK/blob/master/README.md). Briefly, the recommended installation method is running `pip install econ-ark` in your terminal command line (MacOSX or Linux) or at the Windows command prompt (after installing python and pip for Windows)."
   ]
  },
  {
   "cell_type": "markdown",
   "metadata": {},
   "source": [
    "If you are not familiar with the HARK toolkit, you may wish to browse the \"Gentle Introduction\" materials at [https://econ-ark.org/notebooks](https://econ-ark.org/notebooks) before continuing.  If you are not familiar with Jupyter notebooks, Google \"jupyter notebooks\" to find a tutorial.\n",
    "\n",
    "The main HARK model module used here is $\\texttt{ConsIndShockModel.py}$, in which agents have CRRA utility over consumption and face idiosyncratic shocks to permanent and transitory income.  For an introduction to this module, see [ConsIndShockModel.ipynb](econ-ark.org/notebooks)"
   ]
  },
  {
   "cell_type": "code",
   "execution_count": null,
   "metadata": {
    "code_folding": [
     0
    ]
   },
   "outputs": [],
   "source": [
    "# This cell does some setup and imports generic tools used to produce the figures\n",
    "\n",
    "# Import related generic python packages\n",
    "import numpy as np\n",
    "from time import clock\n",
    "mystr = lambda number : \"{:.4f}\".format(number)\n",
    "\n",
    "# This is a jupytext paired notebook that autogenerates BufferStockTheory.py\n",
    "# which can be executed from a terminal command line via \"ipython BufferStockTheory.py\"\n",
    "# But a terminal does not permit inline figures, so we need to test jupyter vs terminal\n",
    "# Google \"how can I check if code is executed in the ipython notebook\"\n",
    "def in_ipynb(): \n",
    "    try:\n",
    "        if str(type(get_ipython())) == \"<class 'ipykernel.zmqshell.ZMQInteractiveShell'>\":\n",
    "            return True\n",
    "        else:\n",
    "            return False\n",
    "    except NameError:\n",
    "        return False\n",
    "    \n",
    "# Determine whether to make the figures inline (for spyder or jupyter) \n",
    "# vs whatever is the automatic setting that will apply if run from the terminal\n",
    "if in_ipynb():\n",
    "    %matplotlib inline\n",
    "else:\n",
    "    %matplotlib auto       \n",
    "\n",
    "# Import the plot-figure library matplotlib\n",
    "\n",
    "import matplotlib.pyplot as plt\n",
    "\n",
    "# In order to use LaTeX to manage all text layout in our figures, we import rc settings from matplotlib.\n",
    "from matplotlib import rc\n",
    "rc('text', usetex= True)\n",
    "plt.rc('text', usetex= True)\n",
    "plt.rc('font', family='serif')\n",
    "\n",
    "\n",
    "# The warnings package allows us to ignore some harmless but alarming warning messages\n",
    "import warnings\n",
    "warnings.filterwarnings(\"ignore\")\n",
    "\n",
    "# The tools for navigating the filesystem\n",
    "import sys \n",
    "import os\n",
    "\n",
    "sys.path.insert(0, os.path.abspath('../lib'))\n",
    "\n",
    "# Find pathname to this file:\n",
    "my_file_path = os.path.dirname(os.path.abspath(\"BufferStockTheory.ipynb\"))\n",
    "\n",
    "# Define (and create, if necessary) the figures directory \"Figures\"\n",
    "Figures_HARK_dir = os.path.join(my_file_path,\"Figures/\")\n",
    "\n",
    "if not os.path.exists(Figures_HARK_dir):\n",
    "    os.makedirs(Figures_HARK_dir)"
   ]
  },
  {
   "cell_type": "markdown",
   "metadata": {},
   "source": [
    "Now we can start making the figures.  We start by importing the relevant subclass of $\\texttt{AgentType}$ into our workspace."
   ]
  },
  {
   "cell_type": "code",
   "execution_count": null,
   "metadata": {},
   "outputs": [],
   "source": [
    "from HARK.ConsumptionSaving.ConsIndShockModel import IndShockConsumerType"
   ]
  },
  {
   "cell_type": "markdown",
   "metadata": {},
   "source": [
    "### Convergence of the Consumption Rules"
   ]
  },
  {
   "cell_type": "markdown",
   "metadata": {},
   "source": [
    "The first figure is in the section **The Baseline Numerical Solution**, which depicts the successive consumption rules that apply in the last period of life $(c_{T}(m))$, the second-to-last period, and various earlier periods under the baseline parameter values listed in Table 1 of the paper."
   ]
  },
  {
   "cell_type": "markdown",
   "metadata": {},
   "source": [
    "First of all, we define the calibrated parameters in table shown below (same as Table 1 in the paper) using a dictionary, which will also be used as the initial inputs for making an baseline instance of the class $\\texttt{IndShockConsumerType}$.\n",
    "\n",
    "| Param | Description | Code | Value |\n",
    "| :---: | ---         | ---  | :---: |\n",
    "| $\\Gamma$ | Permanent Income Growth Factor | $\\texttt{PermGroFac}$ | 1.03 |\n",
    "| $\\mathrm{\\mathsf{R}}$ | Interest Factor | $\\texttt{Rfree}$ | 1.04 |\n",
    "| $\\beta$ | Time Preference Factor | $\\texttt{DiscFac}$ | 0.96 |\n",
    "| $\\rho$ | Coeﬃcient of Relative Risk Aversion| $\\texttt{CRRA}$ | 2 |\n",
    "| $\\wp$ | Probability of Zero Income | $\\texttt{UnempPrb}$ | 0.005 |\n",
    "| $\\sigma_\\psi$ | Std Dev of Log Permanent Shock| $\\texttt{PermShkStd}$ | 0.1 |\n",
    "| $\\sigma_\\theta$ | Std Dev of Log Transitory Shock| $\\texttt{TranShkStd}$ | 0.1 |"
   ]
  },
  {
   "cell_type": "code",
   "execution_count": null,
   "metadata": {
    "code_folding": [
     3
    ]
   },
   "outputs": [],
   "source": [
    "# This cell defines a parameter dictionary for making an instance of IndShockConsumerType, which will be solved as the \n",
    "# baseline solution in the paper.\n",
    "\n",
    "baseline_bufferstock_dictionary = { \n",
    "                    'CRRA': 2,              # Coefficient of relative risk aversion\n",
    "                    'Rfree': 1.04,          # Interest factor on assets\n",
    "                    'DiscFac': 0.96,        # Time Preference Factor\n",
    "                    'LivPrb': [1.0],        # Survival probability (not used in this paper, we set it to 1.0)\n",
    "                    'PermGroFac': [1.03],   # Permanent income growth factor\n",
    "                    'AgentCount': 10000,    # Number of agents of this type (unrelated, only matters for simulation)\n",
    "                    'aXtraMin': 0.001,      # Minimum end-of-period \"assets above minimum\" value\n",
    "                    'aXtraMax': 20,         # Maximum end-of-period \"assets above minimum\" value\n",
    "                    'aXtraNestFac':20,      # Exponential nesting factor when constructing \"assets above minimum\" grid\n",
    "                    'aXtraCount': 48,       # Number of points in the grid of \"assets above minimum\"\n",
    "                    'aXtraExtra': [None],   # Some other value of \"assets above minimum\" to add to the grid, not used\n",
    "                    'PermShkStd': [0.1],    # Standard deviation of log permanent income shocks\n",
    "                    'PermShkCount': 3,      # Number of points in discrete approximation to permanent income shocks\n",
    "                    'TranShkStd': [0.1],    # Standard deviation of log transitory income shocks\n",
    "                    'TranShkCount': 3,      # Number of points in discrete approximation to transitory income shocks\n",
    "                    'UnempPrb': 0.005,      # Probability of unemployment (e.g. Probability of Zero Income in the paper)\n",
    "                    'UnempPrbRet': 0,       # Probability of \"unemployment\" while retired, not used in the paper\n",
    "                    'IncUnemp': 0,          # Unemployment benefits replacement rate, not used in the paper\n",
    "                    'IncUnempRet': 0,       # \"Unemployment\" benefits when retired, not used in the paper\n",
    "                    'BoroCnstArt': 0.0,     # Artificial borrowing constraint; imposed minimum level of end-of period assets, not used in the paper\n",
    "                    'tax_rate':0.0,         # Flat income tax rate, not used in the paper\n",
    "                    'vFuncBool':False,      # Whether to calculate the value function during solution\n",
    "                    'CubicBool':True,       # Use cubic spline interpolation when True, linear interpolation when False\n",
    "                    'T_retire':0,           # Period of retirement (0 --> no retirement)\n",
    "                    'aNrmInitMean' : 0,     # Mean of log initial assets (only matters for simulation), not used here\n",
    "                    'aNrmInitStd' : 1,      # Standard deviation of log initial assets (only for simulation),not used here\n",
    "                    'pLvlInitMean' : 0,     # Mean of log initial permanent income (only matters for simulation), not used here\n",
    "                    'pLvlInitStd' : 0,      # Standard deviation of log initial permanent income (only matters for simulation), not used here\n",
    "                    'PermGroFacAgg' : 1,    # Aggregate permanent income growth factor (only matters for simulation), not used here\n",
    "                    'T_age' : None,         # Age after which simulated agents are automatically killed\n",
    "                    'T_cycle' :1            # Number of periods in the cycle for this agent type\n",
    "                    }"
   ]
  },
  {
   "cell_type": "code",
   "execution_count": null,
   "metadata": {
    "code_folding": [
     0
    ]
   },
   "outputs": [],
   "source": [
    "# Create the baseline instance by passing the dictionary to the class.\n",
    "BaselineExample = IndShockConsumerType(**baseline_bufferstock_dictionary)\n",
    "BaselineExample.cycles = 100 # Make this type have an finite horizon (Set T = 100)\n",
    "\n",
    "start_time = clock()\n",
    "BaselineExample.solve()\n",
    "end_time = clock()\n",
    "print('Solving a baseline buffer stock saving model (100 periods) took ' + mystr(end_time-start_time) + ' seconds.')\n",
    "BaselineExample.unpackcFunc()\n",
    "BaselineExample.timeFwd()"
   ]
  },
  {
   "cell_type": "code",
   "execution_count": null,
   "metadata": {
    "code_folding": [
     0
    ]
   },
   "outputs": [],
   "source": [
    "# Now we start plotting the different periods' consumption rules.\n",
    "\n",
    "m1 = np.linspace(0,9.5,1000) # Set the plot range of m\n",
    "m2 = np.linspace(0,6.5,500)\n",
    "c_m = BaselineExample.cFunc[0](m1)   # c_m can be used to define the limiting inﬁnite-horizon consumption rule here\n",
    "c_t1 = BaselineExample.cFunc[-2](m1) # c_t1 defines the second-to-last period consumption rule\n",
    "c_t5 = BaselineExample.cFunc[-6](m1) # c_t5 defines the T-5 period consumption rule\n",
    "c_t10 = BaselineExample.cFunc[-11](m1)  # c_t10 defines the T-10 period consumption rule\n",
    "c_t0 = m2                            # c_t0 defines the last period consumption rule\n",
    "plt.figure(figsize = (12,9))\n",
    "plt.plot(m1,c_m,color=\"black\")\n",
    "plt.plot(m1,c_t1,color=\"black\")\n",
    "plt.plot(m1,c_t5,color=\"black\")\n",
    "plt.plot(m1,c_t10,color=\"black\")\n",
    "plt.plot(m2,c_t0,color=\"black\")\n",
    "plt.xlim(0,11)\n",
    "plt.ylim(0,7)\n",
    "plt.text(7,6,r'$c_{T}(m) = 45$ degree line',fontsize = 22,fontweight='bold')\n",
    "plt.text(9.6,5.3,r'$c_{T-1}(m)$',fontsize = 22,fontweight='bold')\n",
    "plt.text(9.6,2.6,r'$c_{T-5}(m)$',fontsize = 22,fontweight='bold')\n",
    "plt.text(9.6,2.1,r'$c_{T-10}(m)$',fontsize = 22,fontweight='bold')\n",
    "plt.text(9.6,1.7,r'$c(m)$',fontsize = 22,fontweight='bold')\n",
    "plt.arrow(6.9,6.05,-0.6,0,head_width= 0.03,width=0.001,facecolor='black',length_includes_head='True')\n",
    "plt.tick_params(labelbottom=False, labelleft=False,left='off',right='off',bottom='off',top='off')\n",
    "plt.text(0,7.05,\"$c$\",fontsize = 26)    \n",
    "plt.text(11.1,0,\"$m$\",fontsize = 26)\n",
    "# Save the figures in several formats\n",
    "plt.savefig(os.path.join(Figures_HARK_dir, 'cFuncsConverge.png'))\n",
    "plt.savefig(os.path.join(Figures_HARK_dir, 'cFuncsConverge.jpg'))\n",
    "plt.savefig(os.path.join(Figures_HARK_dir, 'cFuncsConverge.pdf'))\n",
    "plt.savefig(os.path.join(Figures_HARK_dir, 'cFuncsConverge.svg'))"
   ]
  },
  {
   "cell_type": "markdown",
   "metadata": {},
   "source": [
    "The figure illustrates convergence of the consumption rules as the horizon recedes"
   ]
  },
  {
   "cell_type": "markdown",
   "metadata": {},
   "source": [
    "### Example Solution when FVAC Holds but GIC Does Not"
   ]
  },
  {
   "cell_type": "markdown",
   "metadata": {},
   "source": [
    "This figure is shown in the section **The GIC**. It depicts a solution when **FVAC** (Finite Value of Autarky Condition) holds (so that the model has a solution) but the **GIC** (Growth Impatience Condition) fails. "
   ]
  },
  {
   "cell_type": "markdown",
   "metadata": {},
   "source": [
    "The parameter values in this specific example are listed in the following table:\n",
    "\n",
    "| Param | Description | Code | Value |\n",
    "| :---: | ---         | ---  | :---: |\n",
    "| $\\Gamma$ | Permanent Income Growth Factor | $\\texttt{PermGroFac}$ | 1.00 |\n",
    "| $\\mathrm{\\mathsf{R}}$ | Interest Factor | $\\texttt{Rfree}$ | 1.08 |\n",
    "| $\\beta$ | Time Preference Factor | $\\texttt{DiscFac}$ | 0.96 |\n",
    "| $\\rho$ | Coeﬃcient of Relative Risk Aversion| $\\texttt{CRRA}$ | 2 |\n",
    "| $\\wp$ | Probability of Zero Income | $\\texttt{UnempPrb}$ | 0.005 |\n",
    "| $\\sigma_\\psi$ | Std Dev of Log Permanent Shock| $\\texttt{PermShkStd}$ | 0.1 |\n",
    "| $\\sigma_\\theta$ | Std Dev of Log Transitory Shock| $\\texttt{TranShkStd}$ | 0.1 |"
   ]
  },
  {
   "cell_type": "code",
   "execution_count": null,
   "metadata": {
    "code_folding": [
     0,
     2
    ]
   },
   "outputs": [],
   "source": [
    "# Define the corresponding dictionary to make an instance of IndShockConsumerType \n",
    "# for the \"GIC fails\" example.\n",
    "GIC_fail_dictionary = { 'CRRA': 2,\n",
    "                              'Rfree': 1.08,\n",
    "                              'DiscFac': 0.96,\n",
    "                              'LivPrb': [1.0],\n",
    "                              'PermGroFac': [1.00],\n",
    "                              'AgentCount': 10000,\n",
    "                              'aXtraMin': 0.001,\n",
    "                              'aXtraMax': 20,\n",
    "                              'aXtraNestFac':20,\n",
    "                              'aXtraCount': 48,\n",
    "                              'aXtraExtra': [None],\n",
    "                              'PermShkStd': [0.1],\n",
    "                              'PermShkCount': 3,\n",
    "                              'TranShkStd': [0.1],\n",
    "                              'TranShkCount': 3,\n",
    "                              'UnempPrb': 0.005,\n",
    "                              'UnempPrbRet': 0,\n",
    "                              'IncUnemp': 0,\n",
    "                              'IncUnempRet': 0,\n",
    "                              'BoroCnstArt': 0.0,\n",
    "                              'tax_rate':0.0,\n",
    "                              'vFuncBool':False,\n",
    "                              'CubicBool':True,\n",
    "                              'T_retire':0,\n",
    "                              'aNrmInitMean' : 0,\n",
    "                              'aNrmInitStd' : 1,\n",
    "                              'pLvlInitMean' : 0,\n",
    "                              'pLvlInitStd' : 0,\n",
    "                              'PermGroFacAgg' : 1,\n",
    "                              'T_age' : None,\n",
    "                              'T_cycle' :1\n",
    "                             }"
   ]
  },
  {
   "cell_type": "code",
   "execution_count": null,
   "metadata": {
    "code_folding": [
     0
    ]
   },
   "outputs": [],
   "source": [
    "# Solve for the GICFailExample consumption function\n",
    "GICFailExample = IndShockConsumerType(**GIC_fail_dictionary)\n",
    "GICFailExample.cycles = 0 # Make this type have an infinite horizon \n",
    "\n",
    "start_time = clock()\n",
    "GICFailExample.solve()\n",
    "end_time = clock()\n",
    "print('Solving the GICFailExample consumer took ' + mystr(end_time-start_time) + ' seconds.')\n",
    "GICFailExample.unpackcFunc()\n",
    "GICFailExample.timeFwd()"
   ]
  },
  {
   "cell_type": "markdown",
   "metadata": {},
   "source": [
    "Next we define the function $\\mathrm{\\mathbb{E}}_{t}[\\Delta m_{t+1}]$ that shows the ‘sustainable’ level of spending at which $m$ is expected to remain unchanged."
   ]
  },
  {
   "cell_type": "code",
   "execution_count": null,
   "metadata": {
    "code_folding": [
     0
    ]
   },
   "outputs": [],
   "source": [
    "# \"Sustainable\" consumption leaves expected m unchanged.\n",
    "InvEpShInvAct = 0\n",
    "for i in range(len(GICFailExample.PermShkDstn[0][0])):\n",
    "    InvEpShInvAct += GICFailExample.PermShkDstn[0][0][i] * (GICFailExample.PermShkDstn[0][1][i]**(-1))\n",
    "InvInvEpShInvAct = (InvEpShInvAct) ** (-1)\n",
    "PermGroFacAct = GICFailExample.PermGroFac[0] * InvInvEpShInvAct\n",
    "ER = GICFailExample.Rfree / PermGroFacAct\n",
    "Er = ER - 1\n",
    "mSSfunc = lambda m : 1 + (m-1)*(Er/ER)"
   ]
  },
  {
   "cell_type": "code",
   "execution_count": null,
   "metadata": {
    "code_folding": [
     0
    ]
   },
   "outputs": [],
   "source": [
    "# Plot GICFailExample consumption function against the sustainable level of consumption\n",
    "m = np.linspace(0,5,1000)\n",
    "c_m = GICFailExample.cFunc[0](m)\n",
    "E_m = mSSfunc(m)\n",
    "plt.figure(figsize = (12,8))\n",
    "plt.plot(m,c_m,color=\"black\")\n",
    "plt.plot(m,E_m,color=\"black\")\n",
    "plt.xlim(0,5.5)\n",
    "plt.ylim(0,1.6)\n",
    "plt.text(0,1.63,\"$c$\",fontsize = 26)    \n",
    "plt.text(5.55,0,\"$m$\",fontsize = 26)\n",
    "plt.tick_params(labelbottom=False, labelleft=False,left='off',right='off',bottom='off',top='off')\n",
    "plt.text(1,0.6,\"$c(m_{t})$\",fontsize = 18)\n",
    "plt.text(1.5,1.2,\"$\\mathrm{\\mathsf{E}}_{t}[\\Delta m_{t+1}] = 0$\",fontsize = 18)\n",
    "plt.arrow(0.98,0.62,-0.2,0,head_width= 0.02,width=0.001,facecolor='black',length_includes_head='True')\n",
    "plt.arrow(2.2,1.2,0.3,-0.05,head_width= 0.02,width=0.001,facecolor='black',length_includes_head='True')\n",
    "plt.savefig(os.path.join(Figures_HARK_dir, 'FVACnotGIC.png'))\n",
    "plt.savefig(os.path.join(Figures_HARK_dir, 'FVACnotGIC.jpg'))\n",
    "plt.savefig(os.path.join(Figures_HARK_dir, 'FVACnotGIC.pdf'))\n",
    "plt.savefig(os.path.join(Figures_HARK_dir, 'FVACnotGIC.svg'))"
   ]
  },
  {
   "cell_type": "markdown",
   "metadata": {},
   "source": [
    "This figure reproduces the figure shown in the paper.  The gap between the two functions actually increases with $m$ in the limit."
   ]
  },
  {
   "cell_type": "markdown",
   "metadata": {},
   "source": [
    "As a foundation for the remaining figures, we define another instance of the class $\\texttt{IndShockConsumerType}$, which has the same parameter values as the instance $\\texttt{BaselineExample}$ defined previously but is solved to convergence (our definition of an infinite horizon agent type)"
   ]
  },
  {
   "cell_type": "code",
   "execution_count": null,
   "metadata": {
    "code_folding": [
     0
    ]
   },
   "outputs": [],
   "source": [
    "# Create the baseline infinite horizon converged consumption function\n",
    "BaselineExample_inf = IndShockConsumerType(**baseline_bufferstock_dictionary)\n",
    "BaselineExample_inf.cycles = 0 # Make this type have an infinite horizon; see HARK documentation\n",
    "\n",
    "start_time = clock()\n",
    "BaselineExample_inf.solve()\n",
    "end_time = clock()\n",
    "#print('Solving a consumer with idiosyncratic shocks took ' + mystr(end_time-start_time) + ' seconds.')\n",
    "BaselineExample_inf.unpackcFunc()\n",
    "BaselineExample_inf.timeFwd()"
   ]
  },
  {
   "cell_type": "markdown",
   "metadata": {},
   "source": [
    "### Target $m$, Expected Consumption Growth, and Permanent Income Growth"
   ]
  },
  {
   "cell_type": "markdown",
   "metadata": {},
   "source": [
    "This figure is shown in  **Analysis of the Converged Consumption Function**, which shows the expected consumption growth factor $\\mathrm{\\mathbb{E}}_{t}[c_{t+1}/c_{t}]$ for a consumer behaving according to the converged consumption rule."
   ]
  },
  {
   "cell_type": "markdown",
   "metadata": {},
   "source": [
    "The first step is about how to calculate the t+1 period expected consumption. We define an auxiliary function to calculate the expectation of t+1 period consumption given t end-of-period assets."
   ]
  },
  {
   "cell_type": "code",
   "execution_count": null,
   "metadata": {
    "code_folding": [
     0
    ]
   },
   "outputs": [],
   "source": [
    "# Define function to calculate expected consumption in t+1 period given assets at end of t.\n",
    "def exp_consumption(a):\n",
    "    '''\n",
    "    Taking end-of-period assets as input, return expectation of next period's consumption\n",
    "    \n",
    "    Inputs:\n",
    "       a: end-of-period assets\n",
    "       \n",
    "    Returns:\n",
    "       sum(part_expconsump_l): next period's expected consumption\n",
    "    '''\n",
    "    part_expconsump_l = []\n",
    "    for i in range(len(BaselineExample_inf.TranShkDstn[0][0])):\n",
    "        for j in range(len(BaselineExample_inf.PermShkDstn[0][0])):\n",
    "            GrowFactp1 = BaselineExample_inf.PermGroFac[0]* BaselineExample_inf.PermShkDstn[0][1][j]\n",
    "            Rnrmtp1 = BaselineExample_inf.Rfree / GrowFactp1 \n",
    "            btp1 = Rnrmtp1*a\n",
    "            mtp1 = btp1 + BaselineExample_inf.TranShkDstn[0][1][i]\n",
    "            part_expconsumption = BaselineExample_inf.TranShkDstn[0][0][i] * BaselineExample_inf.PermShkDstn[0][0][j]* GrowFactp1*float(BaselineExample_inf.cFunc[0](mtp1))\n",
    "            part_expconsump_l.append(part_expconsumption)\n",
    "    return sum(part_expconsump_l)"
   ]
  },
  {
   "cell_type": "code",
   "execution_count": null,
   "metadata": {
    "code_folding": [
     0
    ]
   },
   "outputs": [],
   "source": [
    "# Calculate the expected consumption growth factor\n",
    "m1 = np.linspace(1,BaselineExample_inf.solution[0].mNrmSS,50) # m1 defines the plot range on the left of target m value (e.g. m <= target m)\n",
    "c_m1 = BaselineExample_inf.cFunc[0](m1)\n",
    "a1 = m1-c_m1\n",
    "exp_consumption_l1 = []\n",
    "for i in range(len(a1)):\n",
    "    exp_consumption_tp1 = exp_consumption(a1[i])\n",
    "    exp_consumption_l1.append(exp_consumption_tp1)\n",
    "    \n",
    "# growth1 defines the values of expected consumption growth factor when m is less than target m \n",
    "growth1 = np.array(exp_consumption_l1)/c_m1  \n",
    "\n",
    "# m2 defines the plot range on the right of target m value (e.g. m >= target m)\n",
    "m2 = np.linspace(BaselineExample_inf.solution[0].mNrmSS,1.9,50) \n",
    "\n",
    "c_m2 = BaselineExample_inf.cFunc[0](m2)\n",
    "a2 = m2-c_m2\n",
    "exp_consumption_l2 = []\n",
    "for i in range(len(a2)):\n",
    "    exp_consumption_tp1 = exp_consumption(a2[i])\n",
    "    exp_consumption_l2.append(exp_consumption_tp1)\n",
    "    \n",
    "# growth 2 defines the values of expected consumption growth factor when m is bigger than target m \n",
    "growth2 = np.array(exp_consumption_l2)/c_m2  "
   ]
  },
  {
   "cell_type": "code",
   "execution_count": null,
   "metadata": {
    "code_folding": [
     0,
     1
    ]
   },
   "outputs": [],
   "source": [
    "# Define a function to construct the arrows on the consumption growth rate function\n",
    "def arrowplot(axes, x, y, narrs=15, dspace=0.5, direc='neg', \\\n",
    "                          hl=0.01, hw=3, c='black'): \n",
    "    ''' \n",
    "    The function is used to plot arrows given the data x and y.\n",
    "    \n",
    "    Input:\n",
    "        narrs  :  Number of arrows that will be drawn along the curve\n",
    "\n",
    "        dspace :  Shift the position of the arrows along the curve.\n",
    "                  Should be between 0. and 1.\n",
    "\n",
    "        direc  :  can be 'pos' or 'neg' to select direction of the arrows\n",
    "\n",
    "        hl     :  length of the arrow head \n",
    "\n",
    "        hw     :  width of the arrow head        \n",
    "\n",
    "        c      :  color of the edge and face of the arrow head  \n",
    "    '''\n",
    "\n",
    "    # r is the distance spanned between pairs of points\n",
    "    r = [0]\n",
    "    for i in range(1,len(x)):\n",
    "        dx = x[i]-x[i-1] \n",
    "        dy = y[i]-y[i-1] \n",
    "        r.append(np.sqrt(dx*dx+dy*dy))\n",
    "    r = np.array(r)\n",
    "\n",
    "    # rtot is a cumulative sum of r, it's used to save time\n",
    "    rtot = []\n",
    "    for i in range(len(r)):\n",
    "        rtot.append(r[0:i].sum())\n",
    "    rtot.append(r.sum())\n",
    "\n",
    "    # based on narrs set the arrow spacing\n",
    "    aspace = r.sum() / narrs\n",
    "\n",
    "    if direc is 'neg':\n",
    "        dspace = -1.*abs(dspace) \n",
    "    else:\n",
    "        dspace = abs(dspace)\n",
    "\n",
    "    arrowData = [] # will hold tuples of x,y,theta for each arrow\n",
    "    arrowPos = aspace*(dspace) # current point on walk along data\n",
    "                                 # could set arrowPos to 0 if you want\n",
    "                                 # an arrow at the beginning of the curve\n",
    "\n",
    "    ndrawn = 0\n",
    "    rcount = 1 \n",
    "    while arrowPos < r.sum() and ndrawn < narrs:\n",
    "        x1,x2 = x[rcount-1],x[rcount]\n",
    "        y1,y2 = y[rcount-1],y[rcount]\n",
    "        da = arrowPos-rtot[rcount]\n",
    "        theta = np.arctan2((x2-x1),(y2-y1))\n",
    "        ax = np.sin(theta)*da+x1\n",
    "        ay = np.cos(theta)*da+y1\n",
    "        arrowData.append((ax,ay,theta))\n",
    "        ndrawn += 1\n",
    "        arrowPos+=aspace\n",
    "        while arrowPos > rtot[rcount+1]: \n",
    "            rcount+=1\n",
    "            if arrowPos > rtot[-1]:\n",
    "                break\n",
    "                \n",
    "    for ax,ay,theta in arrowData:\n",
    "        # use aspace as a guide for size and length of things\n",
    "        # scaling factors were chosen by experimenting a bit\n",
    "\n",
    "        dx0 = np.sin(theta)*hl/2. + ax\n",
    "        dy0 = np.cos(theta)*hl/2. + ay\n",
    "        dx1 = -1.*np.sin(theta)*hl/2. + ax\n",
    "        dy1 = -1.*np.cos(theta)*hl/2. + ay\n",
    "\n",
    "        if direc is 'neg' :\n",
    "            ax0 = dx0 \n",
    "            ay0 = dy0\n",
    "            ax1 = dx1\n",
    "            ay1 = dy1 \n",
    "        else:\n",
    "            ax0 = dx1 \n",
    "            ay0 = dy1\n",
    "            ax1 = dx0\n",
    "            ay1 = dy0 \n",
    "\n",
    "        axes.annotate('', xy=(ax0, ay0), xycoords='data',\n",
    "                xytext=(ax1, ay1), textcoords='data',\n",
    "                arrowprops=dict( headwidth=hw, frac=1., ec=c, fc=c))"
   ]
  },
  {
   "cell_type": "code",
   "execution_count": null,
   "metadata": {
    "code_folding": [
     0
    ]
   },
   "outputs": [],
   "source": [
    "# Plot consumption growth as a function of market resources\n",
    "# Calculate Absolute Patience Factor Phi = lower bound of consumption growth factor\n",
    "AbsPatientFac = (BaselineExample_inf.Rfree*BaselineExample_inf.DiscFac)**(1.0/BaselineExample_inf.CRRA)\n",
    "\n",
    "fig = plt.figure(figsize = (12,8))\n",
    "ax = fig.add_subplot(111)\n",
    "# Plot the Absolute Patience Factor line\n",
    "ax.plot([0,1.9],[AbsPatientFac,AbsPatientFac],color=\"black\")\n",
    "\n",
    "# Plot the Permanent Income Growth Factor line\n",
    "ax.plot([0,1.9],[BaselineExample_inf.PermGroFac[0],BaselineExample_inf.PermGroFac[0]],color=\"black\")\n",
    "\n",
    "# Plot the expected consumption growth factor on the left side of target m\n",
    "ax.plot(m1,growth1,color=\"black\")\n",
    "\n",
    "# Plot the expected consumption growth factor on the right side of target m\n",
    "ax.plot(m2,growth2,color=\"black\")\n",
    "\n",
    "# Plot the arrows\n",
    "arrowplot(ax, m1,growth1)\n",
    "arrowplot(ax, m2,growth2, direc='pos')\n",
    "\n",
    "# Plot the target m \n",
    "ax.plot([BaselineExample_inf.solution[0].mNrmSS,BaselineExample_inf.solution[0].mNrmSS],[0,1.4],color=\"black\",linestyle=\"--\")\n",
    "ax.set_xlim(1,2.05)\n",
    "ax.set_ylim(0.98,1.08)\n",
    "ax.text(1,1.082,\"Growth Factor\",fontsize = 26,fontweight='bold') \n",
    "ax.text(2.055,0.98,\"$m_{t}$\",fontsize = 26,fontweight='bold')\n",
    "ax.text(1.9,1.01,\"$\\mathrm{\\mathsf{E}}_{t}[c_{t+1}/c_{t}]$\",fontsize = 22,fontweight='bold')\n",
    "ax.text(BaselineExample_inf.solution[0].mNrmSS,0.975, r'$\\check{m}$', fontsize = 26,fontweight='bold')\n",
    "ax.tick_params(labelbottom=False, labelleft=False,left='off',right='off',bottom='off',top='off')\n",
    "ax.text(1.9,0.998,r'$\\Phi = (\\mathrm{\\mathsf{R}}\\beta)^{1/\\rho}$',fontsize = 22,fontweight='bold')\n",
    "ax.text(1.9,1.03, r'$\\Gamma$',fontsize = 22,fontweight='bold')\n",
    "fig.savefig(os.path.join(Figures_HARK_dir, 'cGroTargetFig.png'))\n",
    "fig.savefig(os.path.join(Figures_HARK_dir, 'cGroTargetFig.jpg'))\n",
    "fig.savefig(os.path.join(Figures_HARK_dir, 'cGroTargetFig.pdf'))\n",
    "fig.savefig(os.path.join(Figures_HARK_dir, 'cGroTargetFig.svg'))"
   ]
  },
  {
   "cell_type": "markdown",
   "metadata": {},
   "source": [
    "### The Consumption Function Bounds"
   ]
  },
  {
   "cell_type": "markdown",
   "metadata": {},
   "source": [
    "The next figure is also shown in **Analysis of the Converged Consumption Function**, which illustrates theoretical bounds for the consumption function."
   ]
  },
  {
   "cell_type": "markdown",
   "metadata": {},
   "source": [
    "We define two useful variables: lower bound of $\\kappa$ (marginal propensity to consume) and limit of $h$ (Human wealth), along with some functions such as perfect foresight consumption function ($\\bar{c}(m)$), $\\bar{\\bar c}(m)$ and $\\underline{c}(m)$."
   ]
  },
  {
   "cell_type": "code",
   "execution_count": null,
   "metadata": {
    "code_folding": [
     0
    ]
   },
   "outputs": [],
   "source": [
    "# Define k_lower, h_inf and perfect foresight consumption function, upper bound of consumption function and lower \n",
    "# bound of consumption function.\n",
    "k_lower = 1.0-(BaselineExample_inf.Rfree**(-1.0))*(BaselineExample_inf.Rfree*BaselineExample_inf.DiscFac)**(1.0/BaselineExample_inf.CRRA)\n",
    "h_inf = (1.0/(1.0-BaselineExample_inf.PermGroFac[0]/BaselineExample_inf.Rfree))\n",
    "conFunc_PF = lambda m: (h_inf -1)* k_lower + k_lower*m\n",
    "conFunc_upper = lambda m: (1 - BaselineExample_inf.UnempPrb ** (1.0/BaselineExample_inf.CRRA)*(BaselineExample_inf.Rfree*BaselineExample_inf.DiscFac)**(1.0/BaselineExample_inf.CRRA)/BaselineExample_inf.Rfree)*m\n",
    "conFunc_lower = lambda m: (1 -(BaselineExample_inf.Rfree*BaselineExample_inf.DiscFac)**(1.0/BaselineExample_inf.CRRA)/BaselineExample_inf.Rfree) * m\n",
    "intersect_m = ((h_inf-1)* k_lower)/((1 - BaselineExample_inf.UnempPrb \n",
    "            **(1.0/BaselineExample_inf.CRRA)*(BaselineExample_inf.Rfree*BaselineExample_inf.DiscFac)**(1.0/BaselineExample_inf.CRRA)/BaselineExample_inf.Rfree)-k_lower)"
   ]
  },
  {
   "cell_type": "code",
   "execution_count": null,
   "metadata": {
    "code_folding": [
     0
    ]
   },
   "outputs": [],
   "source": [
    "# Plot consumption function and its bounds \n",
    "x1 = np.linspace(0,25,1000)\n",
    "x3 = np.linspace(0,intersect_m,300)\n",
    "x4 = np.linspace(intersect_m,25,700)\n",
    "cfunc_m = BaselineExample_inf.cFunc[0](x1)\n",
    "cfunc_PF_1 = conFunc_PF(x3)\n",
    "cfunc_PF_2 = conFunc_PF(x4)\n",
    "cfunc_upper_1 = conFunc_upper(x3)\n",
    "cfunc_upper_2 = conFunc_upper(x4)\n",
    "cfunc_lower = conFunc_lower(x1)\n",
    "plt.figure(figsize = (12,8))\n",
    "plt.plot(x1,cfunc_m, color=\"black\")\n",
    "plt.plot(x1,cfunc_lower, color=\"black\",linewidth=2.5)\n",
    "plt.plot(x3,cfunc_upper_1, color=\"black\",linewidth=2.5)\n",
    "plt.plot(x4,cfunc_PF_2 , color=\"black\",linewidth=2.5)\n",
    "plt.plot(x4,cfunc_upper_2 , color=\"black\",linestyle=\"--\")\n",
    "plt.plot(x3,cfunc_PF_1 , color=\"black\",linestyle=\"--\")\n",
    "plt.tick_params(labelbottom=False, labelleft=False,left='off',right='off',bottom='off',top='off')\n",
    "plt.xlim(0,25)\n",
    "plt.ylim(0,1.12*conFunc_PF(25))\n",
    "plt.text(0,1.12*conFunc_PF(25)+0.05,\"$c$\",fontsize = 22)    \n",
    "plt.text(25+0.1,0,\"$m$\",fontsize = 22)\n",
    "plt.text(2.5,1,r'$c(m)$',fontsize = 22,fontweight='bold')\n",
    "plt.text(6,5,r'$\\overline{\\overline c}(m)= \\overline{\\kappa}m = (1-\\wp^{1/\\rho}\\Phi_{R})m$',fontsize = 22,fontweight='bold')\n",
    "plt.text(2.2,3.8, r'$\\overline{c}(m) = (m-1+h)\\underline{\\kappa}$',fontsize = 22,fontweight='bold')\n",
    "plt.text(9,4.1,r'Upper Bound $ = $ Min $[\\overline{\\overline c}(m),\\overline{c}(m)]$',fontsize = 22,fontweight='bold')\n",
    "plt.text(7,0.7,r'$\\underline{c}(m)= (1-\\Phi_{R})m = \\underline{\\kappa}m$',fontsize = 22,fontweight='bold')\n",
    "plt.arrow(2.45,1.05,-0.5,0.02,head_width= 0.05,width=0.001,facecolor='black',length_includes_head='True')\n",
    "plt.arrow(2.15,3.88,-0.5,0.1,head_width= 0.05,width=0.001,facecolor='black',length_includes_head='True')\n",
    "plt.arrow(8.95,4.15,-0.8,0.05,head_width= 0.05,width=0.001,facecolor='black',length_includes_head='True')\n",
    "plt.arrow(5.95,5.05,-0.4,0,head_width= 0.05,width=0.001,facecolor='black',length_includes_head='True')\n",
    "plt.arrow(14,0.70,0.5,-0.1,head_width= 0.05,width=0.001,facecolor='black',length_includes_head='True')\n",
    "plt.savefig(os.path.join(Figures_HARK_dir, 'cFuncBounds.png'))\n",
    "plt.savefig(os.path.join(Figures_HARK_dir, 'cFuncBounds.jpg'))\n",
    "plt.savefig(os.path.join(Figures_HARK_dir, 'cFuncBounds.pdf'))\n",
    "plt.savefig(os.path.join(Figures_HARK_dir, 'cFuncBounds.svg'))"
   ]
  },
  {
   "cell_type": "markdown",
   "metadata": {},
   "source": [
    "### The Consumption Function and Target $m$"
   ]
  },
  {
   "cell_type": "markdown",
   "metadata": {},
   "source": [
    "This figure shows the $\\mathrm{\\mathbb{E}}_{t}[\\Delta m_{t+1}]$ and consumption function $c(m_{t})$, along with the intrsection of these two functions, which defines the target value of $m$"
   ]
  },
  {
   "cell_type": "code",
   "execution_count": null,
   "metadata": {
    "code_folding": [
     0
    ]
   },
   "outputs": [],
   "source": [
    "# This just plots objects that have already been constructed\n",
    "m1 = np.linspace(0,4,1000)\n",
    "cfunc_m = BaselineExample_inf.cFunc[0](m1)\n",
    "mSSfunc = lambda m:(BaselineExample_inf.PermGroFac[0]/BaselineExample_inf.Rfree)+(1.0-BaselineExample_inf.PermGroFac[0]/BaselineExample_inf.Rfree)*m\n",
    "mss = mSSfunc(m1)\n",
    "plt.figure(figsize = (12,8))\n",
    "plt.plot(m1,cfunc_m, color=\"black\")\n",
    "plt.plot(m1,mss, color=\"black\")\n",
    "plt.xlim(0,3)\n",
    "plt.ylim(0,1.45)\n",
    "plt.plot([BaselineExample_inf.solution[0].mNrmSS, BaselineExample_inf.solution[0].mNrmSS],[0,2.5],color=\"black\",linestyle=\"--\")\n",
    "plt.tick_params(labelbottom=False, labelleft=False,left='off',right='off',bottom='off',top='off')\n",
    "plt.text(0,1.47,r\"$c$\",fontsize = 26)    \n",
    "plt.text(3.02,0,r\"$m$\",fontsize = 26)\n",
    "plt.text(2.3,0.95,r'$\\mathrm{\\mathsf{E}}[\\Delta m_{t+1}] = 0$',fontsize = 22,fontweight='bold')\n",
    "plt.text(2.3,1.1,r\"$c(m_{t})$\",fontsize = 22,fontweight='bold')\n",
    "plt.text(BaselineExample_inf.solution[0].mNrmSS,-0.05, r\"$\\check{m}$\",fontsize = 26)\n",
    "plt.arrow(2.28,1.12,-0.1,0.03,head_width= 0.02,width=0.001,facecolor='black',length_includes_head='True')\n",
    "plt.arrow(2.28,0.97,-0.1,0.02,head_width= 0.02,width=0.001,facecolor='black',length_includes_head='True')\n",
    "plt.savefig(os.path.join(Figures_HARK_dir, 'cRatTargetFig.png'))\n",
    "plt.savefig(os.path.join(Figures_HARK_dir, 'cRatTargetFig.jpg'))\n",
    "plt.savefig(os.path.join(Figures_HARK_dir, 'cRatTargetFig.pdf'))\n",
    "plt.savefig(os.path.join(Figures_HARK_dir, 'cRatTargetFig.svg'))"
   ]
  },
  {
   "cell_type": "markdown",
   "metadata": {},
   "source": [
    "### Upper and Lower Limits of the Marginal Propensity to Consume"
   ]
  },
  {
   "cell_type": "code",
   "execution_count": null,
   "metadata": {
    "code_folding": [
     0
    ]
   },
   "outputs": [],
   "source": [
    "# The last figure shows the upper and lower limits of the MPC\n",
    "plt.figure(figsize = (12,8))\n",
    "# Set the plot range of m\n",
    "m = np.linspace(0.001,8,1000)\n",
    "\n",
    "# Use the HARK method derivative to get the derivative of cFunc, and the values are just the MPC\n",
    "MPC = BaselineExample_inf.cFunc[0].derivative(m)\n",
    "\n",
    "# Define the upper bound of MPC\n",
    "MPCUpper = (1 - BaselineExample_inf.UnempPrb ** (1.0/BaselineExample_inf.CRRA)*(BaselineExample_inf.Rfree*BaselineExample_inf.DiscFac)**(1.0/BaselineExample_inf.CRRA)/BaselineExample_inf.Rfree)\n",
    "\n",
    "# Define the lower bound of MPC\n",
    "MPCLower = k_lower\n",
    "\n",
    "plt.plot(m,MPC,color = 'black')\n",
    "plt.plot([0,8],[MPCUpper,MPCUpper],color = 'black')\n",
    "plt.plot([0,8],[MPCLower,MPCLower],color = 'black')\n",
    "plt.xlim(0,8)\n",
    "plt.ylim(0,1)\n",
    "plt.text(1.5,0.6,r'$\\kappa(m) \\equiv c^{\\prime}(m)$',fontsize = 26,fontweight='bold')\n",
    "plt.text(6,0.87,r'$(1-\\wp^{1/\\rho}\\Phi_{R})\\equiv \\overline{\\kappa}$',fontsize = 26,fontweight='bold')\n",
    "plt.text(0.5,0.07,r'$\\underline{\\kappa}\\equiv(1-\\Phi_{R})$',fontsize = 26,fontweight='bold')\n",
    "plt.text(8.05,0,\"$m$\",fontsize = 26)\n",
    "plt.arrow(1.45,0.61,-0.4,0,head_width= 0.02,width=0.001,facecolor='black',length_includes_head='True')\n",
    "plt.arrow(1.7,0.07,0.2,-0.01,head_width= 0.02,width=0.001,facecolor='black',length_includes_head='True')\n",
    "plt.arrow(5.95,0.875,-0.2,0.03,head_width= 0.02,width=0.001,facecolor='black',length_includes_head='True')\n",
    "plt.savefig(os.path.join(Figures_HARK_dir, 'MPCLimits.png'))\n",
    "plt.savefig(os.path.join(Figures_HARK_dir, 'MPCLimits.jpg'))\n",
    "plt.savefig(os.path.join(Figures_HARK_dir, 'MPCLimits.pdf'))\n",
    "plt.savefig(os.path.join(Figures_HARK_dir, 'MPCLimits.svg'))"
   ]
  }
 ],
 "metadata": {
  "jupytext": {
   "formats": "ipynb,py"
  },
  "kernelspec": {
   "display_name": "Python 3",
   "language": "python",
   "name": "python3"
  },
  "language_info": {
   "codemirror_mode": {
    "name": "ipython",
    "version": 3
   },
   "file_extension": ".py",
   "mimetype": "text/x-python",
   "name": "python",
   "nbconvert_exporter": "python",
   "pygments_lexer": "ipython3",
   "version": "3.6.4"
  }
 },
 "nbformat": 4,
 "nbformat_minor": 1
}
